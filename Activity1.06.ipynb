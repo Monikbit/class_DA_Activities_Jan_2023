{
 "cells": [
  {
   "attachments": {},
   "cell_type": "markdown",
   "metadata": {},
   "source": [
    "# 1.06 Activity 1"
   ]
  },
  {
   "attachments": {},
   "cell_type": "markdown",
   "metadata": {},
   "source": [
    "<font color='orange'> # What is the difference between a normal distribution and standard normal distribution? </font>"
   ]
  },
  {
   "attachments": {},
   "cell_type": "markdown",
   "metadata": {},
   "source": [
    "#### All normal distributions, like the standard normal distribution, are unimodal and symmetrically distributed with a bell-shaped curve. However, a normal distribution can take on any value as its mean and standard deviation. In the standard normal distribution, the mean and standard deviation are always fixed (u,s) ---> (0,1).\n",
    "\n",
    "#### Every normal distribution is a version of the standard normal distribution that’s been stretched or squeezed and moved horizontally right or left.\n",
    "\n",
    "#### The mean determines where the curve is centered. Increasing the mean moves the curve right, while decreasing it moves the curve left.\n",
    "\n",
    "####  The standard deviation stretches or squeezes the curve. A small standard deviation results in a narrow curve, while a large standard deviation leads to a wide curve."
   ]
  },
  {
   "attachments": {},
   "cell_type": "markdown",
   "metadata": {},
   "source": [
    "<font color='orange'> Go through the documentation on uniform distribution. </font>"
   ]
  },
  {
   "attachments": {},
   "cell_type": "markdown",
   "metadata": {},
   "source": [
    "#### scipy.stats.uniform = <scipy.stats._continuous_distns.uniform_gen object>[source]\n",
    "#### A uniform continuous random variable.\n",
    "#### In the standard form, the distribution is uniform on [0, 1]. Using the parameters loc and scale, one obtains the uniform distribution on [loc, loc + scale]."
   ]
  },
  {
   "attachments": {},
   "cell_type": "markdown",
   "metadata": {},
   "source": [
    "<font color='orange' > Discuss the use of uniform distribution in generating random numbers. </font>"
   ]
  },
  {
   "attachments": {},
   "cell_type": "markdown",
   "metadata": {},
   "source": [
    "\n",
    "#### plt.hist(np.random.uniform(0,1,500000),bins=40) Hay que especificar los valores minimos y maximos"
   ]
  },
  {
   "cell_type": "code",
   "execution_count": 1,
   "metadata": {},
   "outputs": [
    {
     "data": {
      "text/plain": [
       "Text(0.5, 1.0, 'Grafica uniforme')"
      ]
     },
     "execution_count": 1,
     "metadata": {},
     "output_type": "execute_result"
    },
    {
     "data": {
      "image/png": "[encoded data removed]",
      "text/plain": [
       "<Figure size 640x480 with 1 Axes>"
      ]
     },
     "metadata": {},
     "output_type": "display_data"
    }
   ],
   "source": [
    "import pandas as pd\n",
    "import numpy as np\n",
    "import warnings\n",
    "warnings.filterwarnings('ignore')\n",
    "import matplotlib.pyplot as plt\n",
    "import seaborn as sns\n",
    "uniforme=np.random.uniform(0,4,70000)\n",
    "plt.hist(np.random.uniform(0,4,70000),bins=40)  \n",
    "plt.title('Grafica uniforme')"
   ]
  },
  {
   "attachments": {},
   "cell_type": "markdown",
   "metadata": {},
   "source": [
    "# 1.06 Activity 2"
   ]
  },
  {
   "attachments": {},
   "cell_type": "markdown",
   "metadata": {},
   "source": [
    "<font color='orange'>Debate: \n",
    "\n",
    "What kind of problems we can solve with supervised learning? List down some examples with the factors and the target. </font>"
   ]
  },
  {
   "attachments": {},
   "cell_type": "markdown",
   "metadata": {},
   "source": [
    "Aprendizaje Supervisado: entrenamos un algoritmo y al final del proceso elegimos la función que mejor describe los datos de entrada, la que para un X dado hace la mejor estimación de y (X -> y).\n",
    "\n",
    "Los algoritmos de aprendizaje supervisado intentan modelar las relaciones y dependencias entre la salida de la predicción del objetivo y las características de entrada, de modo que podamos predecir los valores de salida para nuevos datos en función de las relaciones que aprendió de los conjuntos de datos anteriores.\n",
    "\n",
    "\n",
    "Análisis predictivo (precios de la vivienda, cotizaciones bursátiles, etc.)\n",
    "Reconocimiento de texto\n",
    "Detección de correo no deseado\n",
    "Análisis de sentimiento del cliente\n",
    "Detección de objetos (por ejemplo, detección de rostros"
   ]
  },
  {
   "attachments": {},
   "cell_type": "markdown",
   "metadata": {},
   "source": [
    "<font color='orange'> What kind of problems we can solve with unsupervised learning? List down some examples with the factors and the target. </font>"
   ]
  },
  {
   "attachments": {},
   "cell_type": "markdown",
   "metadata": {},
   "source": [
    "El aprendizaje no supervisado es un tipo de aprendizaje automático en el que los algoritmos reciben datos que no contienen etiquetas ni instrucciones explícitas sobre qué hacer con ellos. El objetivo es que el algoritmo de aprendizaje encuentre la estructura en los datos de entrada por sí mismo.\n",
    "\n",
    "Agrupacion: \n",
    "El agrupamiento es el tipo de aprendizaje no supervisado donde encontramos patrones ocultos en los datos en función de sus similitudes o diferencias. Estos patrones pueden relacionarse con la forma, el tamaño o el color y se utilizan para agrupar elementos de datos o crear grupos.\n",
    "\n",
    "Asociación\n",
    "La asociación es el tipo de aprendizaje no supervisado en el que podemos encontrar la relación de un elemento de datos con otro elemento de datos. Luego podemos usar esas dependencias y mapearlas de una manera que nos beneficie; por ejemplo, comprender los hábitos de los consumidores con respecto a nuestros productos puede ayudarnos a desarrollar mejores estrategias de venta cruzada.\n",
    "\n",
    "La regla de asociación se utiliza para encontrar la probabilidad de co-ocurrencia de elementos en una colección. Estas técnicas se utilizan a menudo en el análisis del comportamiento del cliente en sitios web de comercio electrónico y plataformas OTT.\n",
    "\n",
    "Reducción de dimensionalidad\n",
    "Como sugiere el nombre, el algoritmo funciona para reducir las dimensiones de los datos. Se utiliza para la extracción de características.\n",
    "\n",
    "Extraer las características importantes del conjunto de datos es un aspecto esencial de los algoritmos de aprendizaje automático. Esto ayuda a reducir la cantidad de variables aleatorias en el conjunto de datos al filtrar características irrelevantes"
   ]
  },
  {
   "attachments": {},
   "cell_type": "markdown",
   "metadata": {},
   "source": [
    "# 1.06 Activity 3"
   ]
  },
  {
   "attachments": {},
   "cell_type": "markdown",
   "metadata": {},
   "source": [
    "<font color='orange'> Read the article medium article. </font>\n",
    "\n",
    "<font color='orange'>  List down some of the keywords that you identified in the article. Do not worry about understanding what do the terms mean right now. We will discuss linear regression in greater detail as we go on. </font>"
   ]
  },
  {
   "attachments": {},
   "cell_type": "markdown",
   "metadata": {},
   "source": [
    "Tipos de regresión lineal\n",
    "Regresión simple\n",
    "Se utiliza una única variable independiente para predecir el valor de una variable dependiente numérica, dicho algoritmo de regresión lineal se denomina regresión lineal simple.\n",
    "\n",
    "Regresión multivariable\n",
    "\n",
    "Se utiliza más de una variable independiente para predecir el valor de una variable dependiente numérica, dicho algoritmo de regresión lineal se denomina regresión lineal múltiple."
   ]
  },
  {
   "attachments": {},
   "cell_type": "markdown",
   "metadata": {},
   "source": [
    "MSE:\n",
    "\n",
    "La función de costo nos ayuda a determinar los mejores valores posibles para m y b que proporcionarían la mejor línea de ajuste para los puntos de datos.\n",
    " Dado que queremos los mejores valores para m y b, convertimos este problema de búsqueda en un problema de minimización mediante el cual se minimiza el error entre el valor predicho y el valor real."
   ]
  },
  {
   "attachments": {},
   "cell_type": "markdown",
   "metadata": {},
   "source": [
    "# 1.06 Activity 4"
   ]
  },
  {
   "attachments": {},
   "cell_type": "markdown",
   "metadata": {},
   "source": [
    "<font color='orange'> Display the OLS summary using Statmodels library and conduct your research to find out the different statistics in the table. What does each element in the table mean? (There is a summary table in the output when you use linear regression with Statmodels.) </font>"
   ]
  },
  {
   "cell_type": "code",
   "execution_count": 6,
   "metadata": {},
   "outputs": [
    {
     "name": "stdout",
     "output_type": "stream",
     "text": [
      "                            OLS Regression Results                            \n",
      "==============================================================================\n",
      "Dep. Variable:                      y   R-squared:                       1.000\n",
      "Model:                            OLS   Adj. R-squared:                  1.000\n",
      "Method:                 Least Squares   F-statistic:                 4.903e+06\n",
      "Date:                Mon, 23 Jan 2023   Prob (F-statistic):          1.86e-243\n",
      "Time:                        15:12:10   Log-Likelihood:                -136.58\n",
      "No. Observations:                 100   AIC:                             279.2\n",
      "Df Residuals:                      97   BIC:                             287.0\n",
      "Df Model:                           2                                         \n",
      "Covariance Type:            nonrobust                                         \n",
      "==============================================================================\n",
      "                 coef    std err          t      P>|t|      [0.025      0.975]\n",
      "------------------------------------------------------------------------------\n",
      "const          1.1432      0.283      4.037      0.000       0.581       1.705\n",
      "x1             0.0598      0.131      0.457      0.649      -0.200       0.320\n",
      "x2            10.0007      0.013    789.706      0.000       9.976      10.026\n",
      "==============================================================================\n",
      "Omnibus:                        2.981   Durbin-Watson:                   2.247\n",
      "Prob(Omnibus):                  0.225   Jarque-Bera (JB):                2.740\n",
      "Skew:                           0.405   Prob(JB):                        0.254\n",
      "Kurtosis:                       2.972   Cond. No.                         144.\n",
      "==============================================================================\n",
      "\n",
      "Notes:\n",
      "[1] Standard Errors assume that the covariance matrix of the errors is correctly specified.\n"
     ]
    }
   ],
   "source": [
    "import statsmodels.api as sm\n",
    "nsample = 100\n",
    "x = np.linspace(0, 10, 100)\n",
    "X = np.column_stack((x, x**2))\n",
    "beta = np.array([1, 0.1, 10])\n",
    "e = np.random.normal(size=nsample)\n",
    "X = sm.add_constant(X)\n",
    "y = np.dot(X, beta) + e\n",
    "model = sm.OLS(y, X)\n",
    "results = model.fit()\n",
    "print(results.summary())"
   ]
  },
  {
   "attachments": {},
   "cell_type": "markdown",
   "metadata": {},
   "source": [
    "<font color='orange'>R^2:</font> es una medida estadística de ajuste que indica cuánta variación de una variable dependiente se explica por la(s) variable(s) independiente(s) en un modelo de regresión."
   ]
  },
  {
   "attachments": {},
   "cell_type": "markdown",
   "metadata": {},
   "source": [
    "<font color='orange'>F-statistic:</font> Una estadística F es un valor que obtiene cuando ejecuta una prueba ANOVA o un análisis de regresión para averiguar si las medias entre dos poblaciones son significativamente diferentes. "
   ]
  },
  {
   "attachments": {},
   "cell_type": "markdown",
   "metadata": {},
   "source": [
    "<font color='orange'>AIC Y BIC:</font>  Los índices AIC y BIC (criterio de información de Akaike y criterio de información Bayesiano, respectivamente) nos proporcionan dos criterios de uso frecuente para la selección de modelos."
   ]
  },
  {
   "attachments": {},
   "cell_type": "markdown",
   "metadata": {},
   "source": [
    "<font color='orange'>Kurtosis:</font>  Es una medida del grado de cuántos valores atípicos hay. Para una distribución normal, el valor del estadístico de curtosis es 0. Una curtosis positiva indica que los datos muestran más valores atípico extremos que una distribución normal."
   ]
  },
  {
   "cell_type": "markdown",
   "metadata": {},
   "source": []
  }
 ],
 "metadata": {
  "kernelspec": {
   "display_name": "base",
   "language": "python",
   "name": "python3"
  },
  "language_info": {
   "codemirror_mode": {
    "name": "ipython",
    "version": 3
   },
   "file_extension": ".py",
   "mimetype": "text/x-python",
   "name": "python",
   "nbconvert_exporter": "python",
   "pygments_lexer": "ipython3",
   "version": "3.9.13"
  },
  "orig_nbformat": 4,
  "vscode": {
   "interpreter": {
    "hash": "f6a2100a7efc7529035a40d3ea72bc8e547ceb70664fb95a465d233cbcc6110c"
   }
  }
 },
 "nbformat": 4,
 "nbformat_minor": 2
}
